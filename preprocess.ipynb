{
 "cells": [
  {
   "attachments": {},
   "cell_type": "markdown",
   "metadata": {},
   "source": [
    "# Suomi 24 data preprocessing"
   ]
  },
  {
   "cell_type": "code",
   "execution_count": 1,
   "metadata": {},
   "outputs": [],
   "source": [
    "import pandas as pd"
   ]
  },
  {
   "cell_type": "code",
   "execution_count": 2,
   "metadata": {},
   "outputs": [],
   "source": [
    "data = pd.read_csv('https://people.arcada.fi/~parland/suomi24~16-22~subset/posts-16-22.csv.gz', sep=';', compression='gzip')"
   ]
  },
  {
   "cell_type": "code",
   "execution_count": 3,
   "metadata": {},
   "outputs": [],
   "source": [
    "data.drop(columns=\"id\", inplace=True, axis=1)"
   ]
  },
  {
   "cell_type": "code",
   "execution_count": 4,
   "metadata": {},
   "outputs": [
    {
     "data": {
      "text/plain": [
       "7     6737\n",
       "3     5799\n",
       "1     4455\n",
       "2     4333\n",
       "19    4124\n",
       "0     3615\n",
       "9     3166\n",
       "Name: class, dtype: int64"
      ]
     },
     "execution_count": 4,
     "metadata": {},
     "output_type": "execute_result"
    }
   ],
   "source": [
    "labels_to_keep = [7,3,1,2,19,0,9]\n",
    "data = data[data[\"class\"].isin(labels_to_keep)]\n",
    "\n",
    "data[\"class\"].value_counts()"
   ]
  },
  {
   "cell_type": "code",
   "execution_count": 5,
   "metadata": {},
   "outputs": [],
   "source": [
    "data.rename(columns={\"class\":\"label\"}, inplace=True)"
   ]
  },
  {
   "cell_type": "code",
   "execution_count": 6,
   "metadata": {},
   "outputs": [
    {
     "data": {
      "text/html": [
       "<div>\n",
       "<style scoped>\n",
       "    .dataframe tbody tr th:only-of-type {\n",
       "        vertical-align: middle;\n",
       "    }\n",
       "\n",
       "    .dataframe tbody tr th {\n",
       "        vertical-align: top;\n",
       "    }\n",
       "\n",
       "    .dataframe thead th {\n",
       "        text-align: right;\n",
       "    }\n",
       "</style>\n",
       "<table border=\"1\" class=\"dataframe\">\n",
       "  <thead>\n",
       "    <tr style=\"text-align: right;\">\n",
       "      <th></th>\n",
       "      <th>topic</th>\n",
       "      <th>article</th>\n",
       "      <th>label</th>\n",
       "    </tr>\n",
       "  </thead>\n",
       "  <tbody>\n",
       "    <tr>\n",
       "      <th>1</th>\n",
       "      <td>Rabbitin pultit pomppailee</td>\n",
       "      <td>Moikka kaikki\\n\\nKävin juuri hakemassa 1/2016 ...</td>\n",
       "      <td>19</td>\n",
       "    </tr>\n",
       "    <tr>\n",
       "      <th>2</th>\n",
       "      <td>Skodapöpö - erikoinen elukka</td>\n",
       "      <td>Vuoden 2015  8 erikoisinta eläinlöytöä.  Yksi ...</td>\n",
       "      <td>19</td>\n",
       "    </tr>\n",
       "    <tr>\n",
       "      <th>5</th>\n",
       "      <td>Rabbit on paska</td>\n",
       "      <td>Katsastin just 1/2016 Rabbitin. En päästänyt l...</td>\n",
       "      <td>19</td>\n",
       "    </tr>\n",
       "    <tr>\n",
       "      <th>6</th>\n",
       "      <td>Luonnonilmiö El Nino</td>\n",
       "      <td>IS kertoo El Ninon sekoittaneen joulukuun lopu...</td>\n",
       "      <td>1</td>\n",
       "    </tr>\n",
       "    <tr>\n",
       "      <th>7</th>\n",
       "      <td>Raksutus takapuskurissa</td>\n",
       "      <td>Moi\\n\\nSain 2016 Skodan ja ihmettelin kun taka...</td>\n",
       "      <td>19</td>\n",
       "    </tr>\n",
       "  </tbody>\n",
       "</table>\n",
       "</div>"
      ],
      "text/plain": [
       "                          topic  \\\n",
       "1    Rabbitin pultit pomppailee   \n",
       "2  Skodapöpö - erikoinen elukka   \n",
       "5               Rabbit on paska   \n",
       "6          Luonnonilmiö El Nino   \n",
       "7       Raksutus takapuskurissa   \n",
       "\n",
       "                                             article  label  \n",
       "1  Moikka kaikki\\n\\nKävin juuri hakemassa 1/2016 ...     19  \n",
       "2  Vuoden 2015  8 erikoisinta eläinlöytöä.  Yksi ...     19  \n",
       "5  Katsastin just 1/2016 Rabbitin. En päästänyt l...     19  \n",
       "6  IS kertoo El Ninon sekoittaneen joulukuun lopu...      1  \n",
       "7  Moi\\n\\nSain 2016 Skodan ja ihmettelin kun taka...     19  "
      ]
     },
     "execution_count": 6,
     "metadata": {},
     "output_type": "execute_result"
    }
   ],
   "source": [
    "data.head()\n",
    "#data = pd.concat[data, data[class]]"
   ]
  },
  {
   "cell_type": "code",
   "execution_count": 7,
   "metadata": {},
   "outputs": [
    {
     "data": {
      "text/html": [
       "<div>\n",
       "<style scoped>\n",
       "    .dataframe tbody tr th:only-of-type {\n",
       "        vertical-align: middle;\n",
       "    }\n",
       "\n",
       "    .dataframe tbody tr th {\n",
       "        vertical-align: top;\n",
       "    }\n",
       "\n",
       "    .dataframe thead th {\n",
       "        text-align: right;\n",
       "    }\n",
       "</style>\n",
       "<table border=\"1\" class=\"dataframe\">\n",
       "  <thead>\n",
       "    <tr style=\"text-align: right;\">\n",
       "      <th></th>\n",
       "      <th>label</th>\n",
       "      <th>text</th>\n",
       "    </tr>\n",
       "  </thead>\n",
       "  <tbody>\n",
       "    <tr>\n",
       "      <th>1</th>\n",
       "      <td>19</td>\n",
       "      <td>Rabbitin pultit pomppailee. Moikka kaikki\\n\\nK...</td>\n",
       "    </tr>\n",
       "    <tr>\n",
       "      <th>2</th>\n",
       "      <td>19</td>\n",
       "      <td>Skodapöpö - erikoinen elukka. Vuoden 2015  8 e...</td>\n",
       "    </tr>\n",
       "    <tr>\n",
       "      <th>5</th>\n",
       "      <td>19</td>\n",
       "      <td>Rabbit on paska. Katsastin just 1/2016 Rabbiti...</td>\n",
       "    </tr>\n",
       "    <tr>\n",
       "      <th>6</th>\n",
       "      <td>1</td>\n",
       "      <td>Luonnonilmiö El Nino. IS kertoo El Ninon sekoi...</td>\n",
       "    </tr>\n",
       "    <tr>\n",
       "      <th>7</th>\n",
       "      <td>19</td>\n",
       "      <td>Raksutus takapuskurissa. Moi\\n\\nSain 2016 Skod...</td>\n",
       "    </tr>\n",
       "  </tbody>\n",
       "</table>\n",
       "</div>"
      ],
      "text/plain": [
       "   label                                               text\n",
       "1     19  Rabbitin pultit pomppailee. Moikka kaikki\\n\\nK...\n",
       "2     19  Skodapöpö - erikoinen elukka. Vuoden 2015  8 e...\n",
       "5     19  Rabbit on paska. Katsastin just 1/2016 Rabbiti...\n",
       "6      1  Luonnonilmiö El Nino. IS kertoo El Ninon sekoi...\n",
       "7     19  Raksutus takapuskurissa. Moi\\n\\nSain 2016 Skod..."
      ]
     },
     "execution_count": 7,
     "metadata": {},
     "output_type": "execute_result"
    }
   ],
   "source": [
    "data[\"text\"] = data[\"topic\"] + \". \" + data[\"article\"]\n",
    "data.drop(columns=[\"topic\", \"article\"], inplace=True, axis=1)\n",
    "\n",
    "data.head()"
   ]
  },
  {
   "cell_type": "code",
   "execution_count": 8,
   "metadata": {},
   "outputs": [],
   "source": [
    "train_data = data.sample(frac=0.95, random_state=200)\n",
    "test_data = data.drop(train_data.index)"
   ]
  },
  {
   "cell_type": "code",
   "execution_count": 9,
   "metadata": {},
   "outputs": [
    {
     "name": "stdout",
     "output_type": "stream",
     "text": [
      "1611\n",
      "30618\n"
     ]
    }
   ],
   "source": [
    "print(len(test_data))\n",
    "print(len(train_data))"
   ]
  },
  {
   "cell_type": "code",
   "execution_count": 10,
   "metadata": {},
   "outputs": [
    {
     "data": {
      "text/html": [
       "<div>\n",
       "<style scoped>\n",
       "    .dataframe tbody tr th:only-of-type {\n",
       "        vertical-align: middle;\n",
       "    }\n",
       "\n",
       "    .dataframe tbody tr th {\n",
       "        vertical-align: top;\n",
       "    }\n",
       "\n",
       "    .dataframe thead th {\n",
       "        text-align: right;\n",
       "    }\n",
       "</style>\n",
       "<table border=\"1\" class=\"dataframe\">\n",
       "  <thead>\n",
       "    <tr style=\"text-align: right;\">\n",
       "      <th></th>\n",
       "      <th>label</th>\n",
       "      <th>text</th>\n",
       "    </tr>\n",
       "  </thead>\n",
       "  <tbody>\n",
       "    <tr>\n",
       "      <th>27</th>\n",
       "      <td>7</td>\n",
       "      <td>Järjestelmävalvojatilin muuttaminen. Haluan mu...</td>\n",
       "    </tr>\n",
       "    <tr>\n",
       "      <th>28</th>\n",
       "      <td>1</td>\n",
       "      <td>Ilmastojalanjälkeni tulee olemaa edelleen suur...</td>\n",
       "    </tr>\n",
       "    <tr>\n",
       "      <th>52</th>\n",
       "      <td>1</td>\n",
       "      <td>Ennätyslumisade tukki Kanadan kulkuväylät. vai...</td>\n",
       "    </tr>\n",
       "    <tr>\n",
       "      <th>215</th>\n",
       "      <td>1</td>\n",
       "      <td>Huolestuttava tilanne. Mitä ovat viherpellet a...</td>\n",
       "    </tr>\n",
       "    <tr>\n",
       "      <th>218</th>\n",
       "      <td>19</td>\n",
       "      <td>Käyttökieltoon.. Heh heh.skeidajullit vinkuu e...</td>\n",
       "    </tr>\n",
       "    <tr>\n",
       "      <th>...</th>\n",
       "      <td>...</td>\n",
       "      <td>...</td>\n",
       "    </tr>\n",
       "    <tr>\n",
       "      <th>54131</th>\n",
       "      <td>2</td>\n",
       "      <td>Toyota jäi taas jumboksi. Kaikki muut aasialai...</td>\n",
       "    </tr>\n",
       "    <tr>\n",
       "      <th>54138</th>\n",
       "      <td>0</td>\n",
       "      <td>Bensiini 1,70 eur/l vs sähkö 0,70 eur/kWh. Kyl...</td>\n",
       "    </tr>\n",
       "    <tr>\n",
       "      <th>54155</th>\n",
       "      <td>0</td>\n",
       "      <td>Suomesta vedyntuotannon kärkimaa. Suomessa vih...</td>\n",
       "    </tr>\n",
       "    <tr>\n",
       "      <th>54168</th>\n",
       "      <td>2</td>\n",
       "      <td>Tässä on osa Toyotan saavutuksista. Toyotan sa...</td>\n",
       "    </tr>\n",
       "    <tr>\n",
       "      <th>54296</th>\n",
       "      <td>7</td>\n",
       "      <td>Onko youtube siirtynyt automaattiseen toistoon...</td>\n",
       "    </tr>\n",
       "  </tbody>\n",
       "</table>\n",
       "<p>1611 rows × 2 columns</p>\n",
       "</div>"
      ],
      "text/plain": [
       "       label                                               text\n",
       "27         7  Järjestelmävalvojatilin muuttaminen. Haluan mu...\n",
       "28         1  Ilmastojalanjälkeni tulee olemaa edelleen suur...\n",
       "52         1  Ennätyslumisade tukki Kanadan kulkuväylät. vai...\n",
       "215        1  Huolestuttava tilanne. Mitä ovat viherpellet a...\n",
       "218       19  Käyttökieltoon.. Heh heh.skeidajullit vinkuu e...\n",
       "...      ...                                                ...\n",
       "54131      2  Toyota jäi taas jumboksi. Kaikki muut aasialai...\n",
       "54138      0  Bensiini 1,70 eur/l vs sähkö 0,70 eur/kWh. Kyl...\n",
       "54155      0  Suomesta vedyntuotannon kärkimaa. Suomessa vih...\n",
       "54168      2  Tässä on osa Toyotan saavutuksista. Toyotan sa...\n",
       "54296      7  Onko youtube siirtynyt automaattiseen toistoon...\n",
       "\n",
       "[1611 rows x 2 columns]"
      ]
     },
     "execution_count": 10,
     "metadata": {},
     "output_type": "execute_result"
    }
   ],
   "source": [
    "test_data"
   ]
  },
  {
   "cell_type": "code",
   "execution_count": 11,
   "metadata": {},
   "outputs": [],
   "source": [
    "# Rename class to label and classes to indexes\n",
    "possible_labels = test_data[\"label\"].unique()\n",
    "\n",
    "label_dict = {}\n",
    "for idx, possible_label in enumerate(possible_labels):\n",
    "    label_dict[possible_label] = idx\n",
    "\n",
    "test_data[\"label\"] = test_data[\"label\"].replace(label_dict)"
   ]
  },
  {
   "cell_type": "code",
   "execution_count": 12,
   "metadata": {},
   "outputs": [],
   "source": [
    "train_data.to_csv(\"data/preprocessed_data.csv\", index=False)"
   ]
  },
  {
   "cell_type": "code",
   "execution_count": 13,
   "metadata": {},
   "outputs": [],
   "source": [
    "test_data.to_csv(\"data/test.csv\", index=False)"
   ]
  },
  {
   "cell_type": "code",
   "execution_count": 14,
   "metadata": {},
   "outputs": [
    {
     "data": {
      "text/plain": [
       "7     6387\n",
       "3     5522\n",
       "1     4231\n",
       "2     4131\n",
       "19    3928\n",
       "0     3420\n",
       "9     2999\n",
       "Name: label, dtype: int64"
      ]
     },
     "execution_count": 14,
     "metadata": {},
     "output_type": "execute_result"
    }
   ],
   "source": [
    "train_data[\"label\"].value_counts()"
   ]
  },
  {
   "cell_type": "code",
   "execution_count": 16,
   "metadata": {},
   "outputs": [
    {
     "data": {
      "text/plain": [
       "0    350\n",
       "4    277\n",
       "1    224\n",
       "5    202\n",
       "2    196\n",
       "6    195\n",
       "3    167\n",
       "Name: label, dtype: int64"
      ]
     },
     "execution_count": 16,
     "metadata": {},
     "output_type": "execute_result"
    }
   ],
   "source": [
    "test_data[\"label\"].value_counts()"
   ]
  },
  {
   "cell_type": "code",
   "execution_count": null,
   "metadata": {},
   "outputs": [],
   "source": []
  }
 ],
 "metadata": {
  "kernelspec": {
   "display_name": "trainEnv",
   "language": "python",
   "name": "python3"
  },
  "language_info": {
   "codemirror_mode": {
    "name": "ipython",
    "version": 3
   },
   "file_extension": ".py",
   "mimetype": "text/x-python",
   "name": "python",
   "nbconvert_exporter": "python",
   "pygments_lexer": "ipython3",
   "version": "3.11.0"
  },
  "orig_nbformat": 4
 },
 "nbformat": 4,
 "nbformat_minor": 2
}
